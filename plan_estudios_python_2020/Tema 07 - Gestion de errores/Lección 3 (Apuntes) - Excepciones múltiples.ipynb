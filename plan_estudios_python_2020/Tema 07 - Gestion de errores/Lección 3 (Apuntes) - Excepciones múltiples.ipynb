{
 "cells": [
  {
   "cell_type": "markdown",
   "metadata": {},
   "source": [
    "# Capturando múltiples excepciones\n",
    "### Guardando la excepción\n",
    "Podemos asignar una excepción a una variable (por ejemplo e). De esta forma haciendo un pequeño truco podemos analizar el tipo de error que sucede gracias a su identificador:"
   ]
  },
  {
   "cell_type": "code",
   "execution_count": 3,
   "metadata": {},
   "outputs": [
    {
     "name": "stdout",
     "output_type": "stream",
     "text": [
      "Introduce un número: 122.3\n",
      "TypeError\n"
     ]
    }
   ],
   "source": [
    "try:\n",
    "    n = input(\"Introduce un número: \")\n",
    "    5/n\n",
    "except Exception as e:\n",
    "    print( type(e).__name__ )"
   ]
  },
  {
   "cell_type": "markdown",
   "metadata": {},
   "source": [
    "### Encadenando excepciones\n",
    "Gracias a los identificadores de errores podemos crear múltiples comprobaciones, siempre que dejemos en último lugar la excepción por defecto *Excepcion* que engloba cualquier tipo de error (si la pusiéramos al principio, las demas excepciones nunca se ejecutarían):"
   ]
  },
  {
   "cell_type": "code",
   "execution_count": 8,
   "metadata": {},
   "outputs": [
    {
     "name": "stdout",
     "output_type": "stream",
     "text": [
      "Introduce un número: AAAaaa\n",
      "Debes introducir una cadena que sea un número\n"
     ]
    }
   ],
   "source": [
    "try:\n",
    "    n = float(input(\"Introduce un número: \"))\n",
    "    5/n\n",
    "except TypeError:\n",
    "    print(\"No se puede dividir el número por una cadena\")\n",
    "except ValueError:\n",
    "    print(\"Debes introducir una cadena que sea un número\")\n",
    "except ZeroDivisionError:\n",
    "    print(\"No se puede dividir por cero, prueba otro número\")\n",
    "except Exception as e:\n",
    "    print( type(e).__name__ )"
   ]
  },
  {
   "cell_type": "code",
   "execution_count": null,
   "metadata": {},
   "outputs": [],
   "source": []
  }
 ],
 "metadata": {
  "kernelspec": {
   "display_name": "Python 3",
   "language": "python",
   "name": "python3"
  },
  "language_info": {
   "codemirror_mode": {
    "name": "ipython",
    "version": 3
   },
   "file_extension": ".py",
   "mimetype": "text/x-python",
   "name": "python",
   "nbconvert_exporter": "python",
   "pygments_lexer": "ipython3",
   "version": "3.8.3"
  }
 },
 "nbformat": 4,
 "nbformat_minor": 1
}
