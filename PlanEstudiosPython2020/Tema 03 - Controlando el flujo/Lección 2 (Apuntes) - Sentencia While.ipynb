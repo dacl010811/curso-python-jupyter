{
 "cells": [
  {
   "cell_type": "markdown",
   "metadata": {},
   "source": [
    "# Iteraciones\n",
    "Iterar significa realizar una acción varias veces. Cada vez que se repite se denomina iteración.\n",
    "## Sentencia While (Mientras)\n",
    "Se basa en repetir un bloque a partir de evaluar una condición lógica, siempre que ésta sea True.\n",
    "\n",
    "Queda en las manos del programador decidir el momento en que la condición cambie a False para hacer que el While finalice.\n"
   ]
  },
  {
   "cell_type": "code",
   "execution_count": 17,
   "metadata": {},
   "outputs": [
    {
     "name": "stdout",
     "output_type": "stream",
     "text": [
      "c vale 1\n",
      "c vale 2\n",
      "c vale 3\n",
      "c vale 4\n",
      "c vale 5\n",
      "c vale 6\n",
      "c vale 7\n",
      "c vale 8\n",
      "c vale 9\n",
      "c vale 10\n",
      "c vale 11\n",
      "Finalizo todo el ciclo\n"
     ]
    }
   ],
   "source": [
    "import time\n",
    "c = 0\n",
    "while c <= 10:\n",
    "    c+=1\n",
    "    print(\"c vale\",c)\n",
    "    time.sleep(1.0)\n",
    "print(\"Finalizo todo el ciclo\")"
   ]
  },
  {
   "cell_type": "markdown",
   "metadata": {},
   "source": [
    "## Sentencia Else en bucle While\n",
    "Se encadena al While para ejecutar un bloque de código una vez la condición ya no devuelve True (normalmente al final)."
   ]
  },
  {
   "cell_type": "code",
   "execution_count": 22,
   "metadata": {
    "scrolled": true
   },
   "outputs": [
    {
     "name": "stdout",
     "output_type": "stream",
     "text": [
      "c vale 1\n",
      "c vale 2\n",
      "c vale 3\n",
      "-\n",
      "c vale 4\n",
      "c vale 5\n",
      "c vale 6\n",
      "c vale 7\n",
      "c vale 8\n",
      "c vale 9\n",
      "c vale 10\n",
      "c vale 11\n",
      "Se ha completado toda la iteración y c vale 11\n"
     ]
    }
   ],
   "source": [
    "import time\n",
    "c = 0\n",
    "while c <= 10:\n",
    "    c+=1\n",
    "    print(\"c vale\",c)\n",
    "    time.sleep(1.0)\n",
    "    if c == 3:\n",
    "        print(\"-\")\n",
    "else:\n",
    "    print(\"Se ha completado toda la iteración y c vale\",c)"
   ]
  },
  {
   "cell_type": "markdown",
   "metadata": {},
   "source": [
    "## Instrucción Break\n",
    "Sirve para \"romper\" la ejecución del While en cualquier momento. No se ejecutará el Else, ya que éste sólo se llama al finalizar la iteración."
   ]
  },
  {
   "cell_type": "code",
   "execution_count": 29,
   "metadata": {},
   "outputs": [
    {
     "name": "stdout",
     "output_type": "stream",
     "text": [
      "El elemento es 1\n",
      "El elemento es 2\n",
      "El elemento es 3\n",
      "El elemento es 4\n",
      "El elemento es 5\n",
      "El elemento es 6\n",
      "El elemento es 7\n",
      "El elemento es 8\n",
      "Rompemos el bucle cuando c vale 8\n",
      "El elemento es 9\n",
      "El elemento es 10\n",
      "El elemento es 11\n",
      "Se ha completado toda la iteración y c vale 11\n"
     ]
    }
   ],
   "source": [
    "import time\n",
    "c = 0\n",
    "while c <= 10:\n",
    "    c+=1\n",
    "    print(\"El elemento es\",c)\n",
    "    if (c==8):\n",
    "        print(\"Rompemos el bucle cuando c vale\",c) \n",
    "        #break\n",
    "    time.sleep(1.0)    \n",
    "else:\n",
    "    print(\"Se ha completado toda la iteración y c vale\",c)"
   ]
  },
  {
   "cell_type": "markdown",
   "metadata": {},
   "source": [
    "## Instrucción Continue\n",
    "Sirve para \"saltarse\" la iteración actual sin romper el bucle."
   ]
  },
  {
   "cell_type": "code",
   "execution_count": 30,
   "metadata": {},
   "outputs": [
    {
     "name": "stdout",
     "output_type": "stream",
     "text": [
      "Continuamos con la siguiente iteración 1\n",
      "Continuamos con la siguiente iteración 2\n",
      "Continuamos con la siguiente iteración 4\n",
      "Continuamos con la siguiente iteración 5\n",
      "Continuamos con la siguiente iteración 6\n",
      "Se ha completado toda la iteración y c vale 6\n"
     ]
    }
   ],
   "source": [
    "import time\n",
    "c = 0\n",
    "while c <= 5:\n",
    "    c+=1\n",
    "    if c==3:\n",
    "        continue\n",
    "    print(\"Continuamos con la siguiente iteración\",c) \n",
    "    time.sleep(.9)\n",
    "else:\n",
    "    print(\"Se ha completado toda la iteración y c vale\",c)"
   ]
  },
  {
   "cell_type": "markdown",
   "metadata": {},
   "source": [
    "### Creando un menú interactivo"
   ]
  },
  {
   "cell_type": "code",
   "execution_count": 10,
   "metadata": {},
   "outputs": [
    {
     "name": "stdout",
     "output_type": "stream",
     "text": [
      "Bienvenido al menú interactivo\n",
      "¿Qué quieres hacer? Escribe una opción\n",
      "    1) Saludar\n",
      "    2) Sumar dos números\n",
      "    3) Salir\n",
      "1\n",
      "Hola, espero que te lo estés pasando bien\n",
      "¿Qué quieres hacer? Escribe una opción\n",
      "    1) Saludar\n",
      "    2) Sumar dos números\n",
      "    3) Salir\n",
      "2\n",
      "Introduce el primer número: 10\n",
      "Introduce el segundo número: 5\n",
      "El resultado de la suma es:  15.0\n",
      "¿Qué quieres hacer? Escribe una opción\n",
      "    1) Saludar\n",
      "    2) Sumar dos números\n",
      "    3) Salir\n",
      "kdjsk\n",
      "Comando desconocido, vuelve a intentarlo\n",
      "¿Qué quieres hacer? Escribe una opción\n",
      "    1) Saludar\n",
      "    2) Sumar dos números\n",
      "    3) Salir\n",
      "3\n",
      "¡Hasta luego! Ha sido un placer ayudarte\n"
     ]
    }
   ],
   "source": [
    "print(\"Bienvenido al menú interactivo\")\n",
    "while(True):\n",
    "    print(\"\"\"¿Qué quieres hacer? Escribe una opción\n",
    "    1) Saludar\n",
    "    2) Sumar dos números\n",
    "    3) Salir\"\"\")\n",
    "    opcion = input()\n",
    "    if opcion == '1':\n",
    "        print(\"Hola, espero que te lo estés pasando bien\")\n",
    "    elif opcion == '2':\n",
    "        n1 = float(input(\"Introduce el primer número: \"))\n",
    "        n2 = float(input(\"Introduce el segundo número: \"))\n",
    "        print(\"El resultado de la suma es: \",n1+n2)\n",
    "    elif opcion =='3':\n",
    "        print(\"¡Hasta luego! Ha sido un placer ayudarte\")\n",
    "        break\n",
    "    else:\n",
    "        print(\"Comando desconocido, vuelve a intentarlo\")"
   ]
  }
 ],
 "metadata": {
  "kernelspec": {
   "display_name": "Python 3",
   "language": "python",
   "name": "python3"
  },
  "language_info": {
   "codemirror_mode": {
    "name": "ipython",
    "version": 3
   },
   "file_extension": ".py",
   "mimetype": "text/x-python",
   "name": "python",
   "nbconvert_exporter": "python",
   "pygments_lexer": "ipython3",
   "version": "3.8.3"
  }
 },
 "nbformat": 4,
 "nbformat_minor": 1
}
