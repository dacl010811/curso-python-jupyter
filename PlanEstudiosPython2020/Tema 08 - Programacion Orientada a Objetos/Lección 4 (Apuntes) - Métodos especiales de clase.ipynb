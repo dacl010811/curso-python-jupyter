{
 "cells": [
  {
   "cell_type": "markdown",
   "metadata": {},
   "source": [
    "# Métodos especiales de clase\n",
    "## Constructor y destructor"
   ]
  },
  {
   "cell_type": "code",
   "execution_count": 4,
   "metadata": {},
   "outputs": [
    {
     "name": "stdout",
     "output_type": "stream",
     "text": [
      "Se ha creado la película El Padrino\n",
      "<__main__.Pelicula object at 0x7f859f550df0>\n",
      "Se está borrando la película El Padrino\n"
     ]
    },
    {
     "ename": "NameError",
     "evalue": "name 'p' is not defined",
     "output_type": "error",
     "traceback": [
      "\u001b[0;31m---------------------------------------------------------------------------\u001b[0m",
      "\u001b[0;31mNameError\u001b[0m                                 Traceback (most recent call last)",
      "\u001b[0;32m<ipython-input-4-7bcd69c42292>\u001b[0m in \u001b[0;36m<module>\u001b[0;34m\u001b[0m\n\u001b[1;32m     14\u001b[0m \u001b[0mprint\u001b[0m\u001b[0;34m(\u001b[0m\u001b[0mp\u001b[0m\u001b[0;34m)\u001b[0m\u001b[0;34m\u001b[0m\u001b[0;34m\u001b[0m\u001b[0m\n\u001b[1;32m     15\u001b[0m \u001b[0;32mdel\u001b[0m \u001b[0;34m(\u001b[0m\u001b[0mp\u001b[0m\u001b[0;34m)\u001b[0m\u001b[0;34m\u001b[0m\u001b[0;34m\u001b[0m\u001b[0m\n\u001b[0;32m---> 16\u001b[0;31m \u001b[0mprint\u001b[0m\u001b[0;34m(\u001b[0m\u001b[0mp\u001b[0m\u001b[0;34m)\u001b[0m\u001b[0;34m\u001b[0m\u001b[0;34m\u001b[0m\u001b[0m\n\u001b[0m",
      "\u001b[0;31mNameError\u001b[0m: name 'p' is not defined"
     ]
    }
   ],
   "source": [
    "class Pelicula:\n",
    "    # Constructor de clase (al crear la instancia)\n",
    "    def __init__(self,titulo,duracion,lanzamiento):\n",
    "        self.titulo = titulo\n",
    "        self.duracion = duracion\n",
    "        self.lanzamiento = lanzamiento\n",
    "        print(\"Se ha creado la película\",self.titulo)\n",
    "        \n",
    "    # Destructor de clase (al borrar la instancia)\n",
    "    def __del__(self):\n",
    "        print(\"Se está borrando la película\", self.titulo)\n",
    "        \n",
    "p = Pelicula(\"El Padrino\",175,1972)\n",
    "print(p)\n",
    "del (p)\n",
    "print(p)"
   ]
  },
  {
   "cell_type": "markdown",
   "metadata": {},
   "source": [
    "#### Al reinstanciar la misma variable se crea de nuevo y se borra la anterior"
   ]
  },
  {
   "cell_type": "code",
   "execution_count": 6,
   "metadata": {},
   "outputs": [
    {
     "name": "stdout",
     "output_type": "stream",
     "text": [
      "Se ha creado la película El Padrino\n",
      "Se ha creado la película El fdf\n",
      "Se está borrando la película El Padrino\n",
      "Se está borrando la película El fdf\n",
      "<__main__.Pelicula object at 0x7f859f5505b0>\n",
      "<__main__.Pelicula object at 0x7f859f5505b0>\n"
     ]
    }
   ],
   "source": [
    "p = Pelicula(\"El Padrino\",175,1972)\n",
    "p1 = Pelicula(\"El fdf\",175,1972)\n",
    "\n",
    "p1 = p\n",
    "\n",
    "print(p)\n",
    "print(p1)\n"
   ]
  },
  {
   "cell_type": "markdown",
   "metadata": {},
   "source": [
    "## String\n",
    "Para devolver una cadena por defecto al convertir un objeto a una cadena con str(objeto):"
   ]
  },
  {
   "cell_type": "code",
   "execution_count": 11,
   "metadata": {},
   "outputs": [
    {
     "data": {
      "text/plain": [
       "<__main__.Pelicula at 0x20bb8318fd0>"
      ]
     },
     "execution_count": 11,
     "metadata": {},
     "output_type": "execute_result"
    }
   ],
   "source": [
    "p"
   ]
  },
  {
   "cell_type": "code",
   "execution_count": 12,
   "metadata": {},
   "outputs": [
    {
     "data": {
      "text/plain": [
       "'10'"
      ]
     },
     "execution_count": 12,
     "metadata": {},
     "output_type": "execute_result"
    }
   ],
   "source": [
    "str(10)"
   ]
  },
  {
   "cell_type": "code",
   "execution_count": 7,
   "metadata": {},
   "outputs": [
    {
     "data": {
      "text/plain": [
       "'<__main__.Pelicula object at 0x7f859f5505b0>'"
      ]
     },
     "execution_count": 7,
     "metadata": {},
     "output_type": "execute_result"
    }
   ],
   "source": [
    "str(p)"
   ]
  },
  {
   "cell_type": "code",
   "execution_count": 8,
   "metadata": {},
   "outputs": [
    {
     "name": "stdout",
     "output_type": "stream",
     "text": [
      "Se ha creado la película El Padrino\n"
     ]
    }
   ],
   "source": [
    "class Pelicula:\n",
    "    # Constructor de clase\n",
    "    def __init__(self,titulo,duracion,lanzamiento):\n",
    "        self.titulo = titulo\n",
    "        self.duracion = duracion\n",
    "        self.lanzamiento = lanzamiento\n",
    "        print(\"Se ha creado la película\",self.titulo)\n",
    "        \n",
    "    # Destructor de clase\n",
    "    def __del__(self):\n",
    "        print(\"Se está borrando la película\", self.titulo)\n",
    "        \n",
    "    # Redefinimos el método string\n",
    "    def __str__(self):\n",
    "         return \"{} lanzada en {} con una duración de {} minutos\".format(self.titulo,self.lanzamiento,self.duracion)\n",
    "        \n",
    "p = Pelicula(\"El Padrino\",175,1972)"
   ]
  },
  {
   "cell_type": "code",
   "execution_count": 9,
   "metadata": {},
   "outputs": [
    {
     "ename": "TypeError",
     "evalue": "__str__ returned non-string (type NoneType)",
     "output_type": "error",
     "traceback": [
      "\u001b[0;31m---------------------------------------------------------------------------\u001b[0m",
      "\u001b[0;31mTypeError\u001b[0m                                 Traceback (most recent call last)",
      "\u001b[0;32m<ipython-input-9-6fa49e6a6efa>\u001b[0m in \u001b[0;36m<module>\u001b[0;34m\u001b[0m\n\u001b[0;32m----> 1\u001b[0;31m \u001b[0mstr\u001b[0m\u001b[0;34m(\u001b[0m\u001b[0mp\u001b[0m\u001b[0;34m)\u001b[0m\u001b[0;34m\u001b[0m\u001b[0;34m\u001b[0m\u001b[0m\n\u001b[0m",
      "\u001b[0;31mTypeError\u001b[0m: __str__ returned non-string (type NoneType)"
     ]
    }
   ],
   "source": [
    "str(p)"
   ]
  },
  {
   "cell_type": "markdown",
   "metadata": {},
   "source": [
    "## Length\n",
    "Para devolver un número que simula la longitud del objeto len(objeto):"
   ]
  },
  {
   "cell_type": "code",
   "execution_count": 27,
   "metadata": {
    "scrolled": true
   },
   "outputs": [
    {
     "data": {
      "text/plain": [
       "175"
      ]
     },
     "execution_count": 27,
     "metadata": {},
     "output_type": "execute_result"
    }
   ],
   "source": [
    "len(p)"
   ]
  },
  {
   "cell_type": "code",
   "execution_count": 28,
   "metadata": {},
   "outputs": [
    {
     "name": "stdout",
     "output_type": "stream",
     "text": [
      "Se ha creado la película El Padrino\n",
      "Se está borrando la película El Padrino\n",
      "El Padrino 111 lanzada en 1972 con una duración de  minutos\n"
     ]
    },
    {
     "data": {
      "text/plain": [
       "175"
      ]
     },
     "execution_count": 28,
     "metadata": {},
     "output_type": "execute_result"
    }
   ],
   "source": [
    "class Pelicula:\n",
    "    # Constructor de clase\n",
    "    def __init__(self,titulo,duracion,lanzamiento):\n",
    "        self.titulo = titulo\n",
    "        self.duracion = duracion\n",
    "        self.lanzamiento = lanzamiento\n",
    "        print(\"Se ha creado la película\",self.titulo)\n",
    "        \n",
    "    # Destructor de clase\n",
    "    def __del__(self):\n",
    "        print(\"Se está borrando la película\", self.titulo)\n",
    "        \n",
    "    # Redefinimos el método string\n",
    "    def __str__(self):\n",
    "        return \"{} 00000 lanzada en {} con una duración de {} minutos\".format(self.titulo,self.lanzamiento,self.duracion)\n",
    "    \n",
    "    def __str__(self):\n",
    "        return \"{} 111 lanzada en {} con una duración de  minutos\".format(self.titulo,self.lanzamiento)\n",
    "    \n",
    "    # Redefinimos el método length\n",
    "    def __len__(self):\n",
    "        return self.duracion\n",
    "        \n",
    "p = Pelicula(\"El Padrino\",175,1972)\n",
    "print(p)\n",
    "len(p)"
   ]
  },
  {
   "cell_type": "code",
   "execution_count": null,
   "metadata": {},
   "outputs": [],
   "source": []
  },
  {
   "cell_type": "code",
   "execution_count": null,
   "metadata": {},
   "outputs": [],
   "source": []
  },
  {
   "cell_type": "code",
   "execution_count": null,
   "metadata": {},
   "outputs": [],
   "source": []
  }
 ],
 "metadata": {
  "kernelspec": {
   "display_name": "Python 3",
   "language": "python",
   "name": "python3"
  },
  "language_info": {
   "codemirror_mode": {
    "name": "ipython",
    "version": 3
   },
   "file_extension": ".py",
   "mimetype": "text/x-python",
   "name": "python",
   "nbconvert_exporter": "python",
   "pygments_lexer": "ipython3",
   "version": "3.8.3"
  }
 },
 "nbformat": 4,
 "nbformat_minor": 1
}
